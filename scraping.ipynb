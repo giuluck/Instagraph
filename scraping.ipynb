{
 "cells": [
  {
   "cell_type": "markdown",
   "metadata": {},
   "source": [
    "# Scraping your Instagram Account\n",
    "\n",
    "**Instagraph** wants to analyze the **relations** between **you**, your **followers** and your **following**. Therefore, the **first step** is to **retrieve** these **information** from the **Instagram network**.  \n",
    "[**InstaPy**](https://github.com/timgrossmann/InstaPy) is a **tool** which enables you to **interact** with your account **automatically**. For **more details** you can refer to its [**documentation**](https://github.com/timgrossmann/InstaPy/blob/master/DOCUMENTATION.md).  "
   ]
  },
  {
   "cell_type": "markdown",
   "metadata": {},
   "source": [
    "## Following/Followers Relations\n",
    "\n",
    "The script below selects **all** the **users** in your **followers or following** list and **for each** of them **stores** locally his **following list**.  \n",
    "We are interested in the following list of a user because it is generally **smaller than** the **followers** one, especially for well known accounts (e.g. influencers), and considering only it does **not omit links** between **any pair of users** connected to your profile.  \n",
    "Depending on the amount of your following/followers the script may take **several hours** in order to complete the task."
   ]
  },
  {
   "cell_type": "code",
   "execution_count": null,
   "metadata": {},
   "outputs": [],
   "source": [
    "from instapy import InstaPy\n",
    "from instapy import smart_run\n",
    "from instapy import set_workspace\n",
    "\n",
    "\n",
    "# set workspace folder at desired location (default is at your home folder)\n",
    "set_workspace(path=None)\n",
    "\n",
    "insta_username = \"your_username\"\n",
    "insta_password = \"your_password\"\n",
    "\n",
    "# get an InstaPy session!\n",
    "session = InstaPy(username=insta_username, password=insta_password, headless_browser=True)\n",
    "\n",
    "with smart_run(session):\n",
    "    my_followers = session.grab_followers(username=insta_username, amount=\"full\", live_match=True, store_locally=True)\n",
    "    my_following = session.grab_following(username=insta_username, amount=\"full\", live_match=True, store_locally=True)\n",
    "    \n",
    "    for follow in list(set(my_followers) | set(my_following)):\n",
    "        session.grab_following(username=follow, amount=\"full\", live_match=False, store_locally=True)\n"
   ]
  },
  {
   "cell_type": "markdown",
   "metadata": {},
   "source": [
    "If you have not modified the workspace, in your home directory there will be a folder called `InstaPy`. Inside it, precisely at the location `logs/your_username/relationship_data/following` will be present all the files you are interested to. Each of them is in `json` format and contains only an array of strings."
   ]
  },
  {
   "cell_type": "markdown",
   "metadata": {},
   "source": [
    "## Merge Data\n",
    "\n",
    "In order to **correctly import** the **scraped data** inside **Apache Spark** a further step is needed. It consists in **merging together** all the files inside a unique `data.json` which have **usernames** as **keys** and **arrays of following** as **values**.  \n",
    "Supposing each `json` file name is the corresponding account username, this script can do the trick:"
   ]
  },
  {
   "cell_type": "code",
   "execution_count": 1,
   "metadata": {},
   "outputs": [],
   "source": [
    "import json\n",
    "import os\n",
    "\n",
    "path = os.getenv(\"HOME\") + \"/InstaPy/logs/your_username/relationship_data/following/\"\n",
    "file_names = os.listdir(path)\n",
    "data = {}\n",
    "\n",
    "for name in file_names:\n",
    "    input_file = open(path + name)\n",
    "    json_array = json.load(input_file)\n",
    "    data[name[:-5]] = json_array\n",
    "\n",
    "with open('src/main/resources/your_username.json', 'w') as f:\n",
    "    json.dump(data, f)"
   ]
  }
 ],
 "metadata": {
  "kernelspec": {
   "display_name": "Python 3",
   "language": "python",
   "name": "python3"
  },
  "language_info": {
   "codemirror_mode": {
    "name": "ipython",
    "version": 3
   },
   "file_extension": ".py",
   "mimetype": "text/x-python",
   "name": "python",
   "nbconvert_exporter": "python",
   "pygments_lexer": "ipython3",
   "version": "3.8.2"
  }
 },
 "nbformat": 4,
 "nbformat_minor": 2
}
